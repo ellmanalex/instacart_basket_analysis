{
 "cells": [
  {
   "cell_type": "code",
   "execution_count": 2,
   "metadata": {},
   "outputs": [],
   "source": [
    "import pandas as pd\n",
    "import numpy as np\n",
    "import seaborn as sns\n",
    "aisles = pd.read_csv('aisles.csv')\n",
    "departments = pd.read_csv('departments.csv')\n",
    "prior = pd.read_csv('order_products__prior.csv')\n",
    "train = pd.read_csv('order_products_train.csv')\n",
    "orders = pd.read_csv('orders.csv')\n",
    "products = pd.read_csv('products.csv')"
   ]
  },
  {
   "cell_type": "code",
   "execution_count": 6,
   "metadata": {},
   "outputs": [],
   "source": [
    "# create merged dataframe of all orders\n",
    "\n",
    "all_orders = pd.concat([prior,train],axis = 0)\n",
    "all_orders = all_orders.merge(products[['product_id','aisle_id','department_id']], how = 'inner', on = 'product_id')\n",
    "all_orders = all_orders.merge(aisles, on = 'aisle_id')\n",
    "all_orders = all_orders.merge(departments, on = 'department_id')\n",
    "all_orders = all_orders.merge(orders[['order_id','user_id']], on = 'order_id')\n",
    "all_orders = all_orders.merge(products[['product_id','product_name']], on = 'product_id')"
   ]
  },
  {
   "cell_type": "code",
   "execution_count": 7,
   "metadata": {},
   "outputs": [
    {
     "data": {
      "text/html": [
       "<div>\n",
       "<style scoped>\n",
       "    .dataframe tbody tr th:only-of-type {\n",
       "        vertical-align: middle;\n",
       "    }\n",
       "\n",
       "    .dataframe tbody tr th {\n",
       "        vertical-align: top;\n",
       "    }\n",
       "\n",
       "    .dataframe thead th {\n",
       "        text-align: right;\n",
       "    }\n",
       "</style>\n",
       "<table border=\"1\" class=\"dataframe\">\n",
       "  <thead>\n",
       "    <tr style=\"text-align: right;\">\n",
       "      <th></th>\n",
       "      <th>order_id</th>\n",
       "      <th>product_id</th>\n",
       "      <th>add_to_cart_order</th>\n",
       "      <th>reordered</th>\n",
       "      <th>aisle_id</th>\n",
       "      <th>department_id</th>\n",
       "      <th>aisle</th>\n",
       "      <th>department</th>\n",
       "      <th>user_id</th>\n",
       "      <th>product_name</th>\n",
       "    </tr>\n",
       "  </thead>\n",
       "  <tbody>\n",
       "    <tr>\n",
       "      <th>0</th>\n",
       "      <td>2</td>\n",
       "      <td>33120</td>\n",
       "      <td>1</td>\n",
       "      <td>1</td>\n",
       "      <td>86</td>\n",
       "      <td>16</td>\n",
       "      <td>eggs</td>\n",
       "      <td>dairy eggs</td>\n",
       "      <td>202279</td>\n",
       "      <td>Organic Egg Whites</td>\n",
       "    </tr>\n",
       "    <tr>\n",
       "      <th>1</th>\n",
       "      <td>26</td>\n",
       "      <td>33120</td>\n",
       "      <td>5</td>\n",
       "      <td>0</td>\n",
       "      <td>86</td>\n",
       "      <td>16</td>\n",
       "      <td>eggs</td>\n",
       "      <td>dairy eggs</td>\n",
       "      <td>153404</td>\n",
       "      <td>Organic Egg Whites</td>\n",
       "    </tr>\n",
       "    <tr>\n",
       "      <th>2</th>\n",
       "      <td>120</td>\n",
       "      <td>33120</td>\n",
       "      <td>13</td>\n",
       "      <td>0</td>\n",
       "      <td>86</td>\n",
       "      <td>16</td>\n",
       "      <td>eggs</td>\n",
       "      <td>dairy eggs</td>\n",
       "      <td>23750</td>\n",
       "      <td>Organic Egg Whites</td>\n",
       "    </tr>\n",
       "    <tr>\n",
       "      <th>3</th>\n",
       "      <td>327</td>\n",
       "      <td>33120</td>\n",
       "      <td>5</td>\n",
       "      <td>1</td>\n",
       "      <td>86</td>\n",
       "      <td>16</td>\n",
       "      <td>eggs</td>\n",
       "      <td>dairy eggs</td>\n",
       "      <td>58707</td>\n",
       "      <td>Organic Egg Whites</td>\n",
       "    </tr>\n",
       "    <tr>\n",
       "      <th>4</th>\n",
       "      <td>390</td>\n",
       "      <td>33120</td>\n",
       "      <td>28</td>\n",
       "      <td>1</td>\n",
       "      <td>86</td>\n",
       "      <td>16</td>\n",
       "      <td>eggs</td>\n",
       "      <td>dairy eggs</td>\n",
       "      <td>166654</td>\n",
       "      <td>Organic Egg Whites</td>\n",
       "    </tr>\n",
       "    <tr>\n",
       "      <th>...</th>\n",
       "      <td>...</td>\n",
       "      <td>...</td>\n",
       "      <td>...</td>\n",
       "      <td>...</td>\n",
       "      <td>...</td>\n",
       "      <td>...</td>\n",
       "      <td>...</td>\n",
       "      <td>...</td>\n",
       "      <td>...</td>\n",
       "      <td>...</td>\n",
       "    </tr>\n",
       "    <tr>\n",
       "      <th>33819101</th>\n",
       "      <td>1630750</td>\n",
       "      <td>34081</td>\n",
       "      <td>2</td>\n",
       "      <td>1</td>\n",
       "      <td>94</td>\n",
       "      <td>7</td>\n",
       "      <td>tea</td>\n",
       "      <td>beverages</td>\n",
       "      <td>16884</td>\n",
       "      <td>Peach Black Tea</td>\n",
       "    </tr>\n",
       "    <tr>\n",
       "      <th>33819102</th>\n",
       "      <td>3229668</td>\n",
       "      <td>31465</td>\n",
       "      <td>9</td>\n",
       "      <td>0</td>\n",
       "      <td>27</td>\n",
       "      <td>5</td>\n",
       "      <td>beers coolers</td>\n",
       "      <td>alcohol</td>\n",
       "      <td>41154</td>\n",
       "      <td>Imported Stout Draught Style</td>\n",
       "    </tr>\n",
       "    <tr>\n",
       "      <th>33819103</th>\n",
       "      <td>1622849</td>\n",
       "      <td>45509</td>\n",
       "      <td>1</td>\n",
       "      <td>0</td>\n",
       "      <td>37</td>\n",
       "      <td>1</td>\n",
       "      <td>ice cream ice</td>\n",
       "      <td>frozen</td>\n",
       "      <td>119951</td>\n",
       "      <td>Amaretto Almond Crunch Ice Cream</td>\n",
       "    </tr>\n",
       "    <tr>\n",
       "      <th>33819104</th>\n",
       "      <td>2589416</td>\n",
       "      <td>45509</td>\n",
       "      <td>4</td>\n",
       "      <td>0</td>\n",
       "      <td>37</td>\n",
       "      <td>1</td>\n",
       "      <td>ice cream ice</td>\n",
       "      <td>frozen</td>\n",
       "      <td>17724</td>\n",
       "      <td>Amaretto Almond Crunch Ice Cream</td>\n",
       "    </tr>\n",
       "    <tr>\n",
       "      <th>33819105</th>\n",
       "      <td>1666202</td>\n",
       "      <td>47680</td>\n",
       "      <td>1</td>\n",
       "      <td>0</td>\n",
       "      <td>28</td>\n",
       "      <td>5</td>\n",
       "      <td>red wines</td>\n",
       "      <td>alcohol</td>\n",
       "      <td>189140</td>\n",
       "      <td>Indian Wells Merlot</td>\n",
       "    </tr>\n",
       "  </tbody>\n",
       "</table>\n",
       "<p>33819106 rows × 10 columns</p>\n",
       "</div>"
      ],
      "text/plain": [
       "          order_id  product_id  add_to_cart_order  reordered  aisle_id  \\\n",
       "0                2       33120                  1          1        86   \n",
       "1               26       33120                  5          0        86   \n",
       "2              120       33120                 13          0        86   \n",
       "3              327       33120                  5          1        86   \n",
       "4              390       33120                 28          1        86   \n",
       "...            ...         ...                ...        ...       ...   \n",
       "33819101   1630750       34081                  2          1        94   \n",
       "33819102   3229668       31465                  9          0        27   \n",
       "33819103   1622849       45509                  1          0        37   \n",
       "33819104   2589416       45509                  4          0        37   \n",
       "33819105   1666202       47680                  1          0        28   \n",
       "\n",
       "          department_id          aisle  department  user_id  \\\n",
       "0                    16           eggs  dairy eggs   202279   \n",
       "1                    16           eggs  dairy eggs   153404   \n",
       "2                    16           eggs  dairy eggs    23750   \n",
       "3                    16           eggs  dairy eggs    58707   \n",
       "4                    16           eggs  dairy eggs   166654   \n",
       "...                 ...            ...         ...      ...   \n",
       "33819101              7            tea   beverages    16884   \n",
       "33819102              5  beers coolers     alcohol    41154   \n",
       "33819103              1  ice cream ice      frozen   119951   \n",
       "33819104              1  ice cream ice      frozen    17724   \n",
       "33819105              5      red wines     alcohol   189140   \n",
       "\n",
       "                              product_name  \n",
       "0                       Organic Egg Whites  \n",
       "1                       Organic Egg Whites  \n",
       "2                       Organic Egg Whites  \n",
       "3                       Organic Egg Whites  \n",
       "4                       Organic Egg Whites  \n",
       "...                                    ...  \n",
       "33819101                   Peach Black Tea  \n",
       "33819102      Imported Stout Draught Style  \n",
       "33819103  Amaretto Almond Crunch Ice Cream  \n",
       "33819104  Amaretto Almond Crunch Ice Cream  \n",
       "33819105               Indian Wells Merlot  \n",
       "\n",
       "[33819106 rows x 10 columns]"
      ]
     },
     "execution_count": 7,
     "metadata": {},
     "output_type": "execute_result"
    }
   ],
   "source": [
    "all_orders"
   ]
  },
  {
   "cell_type": "code",
   "execution_count": 4,
   "metadata": {},
   "outputs": [
    {
     "data": {
      "text/html": [
       "<div>\n",
       "<style scoped>\n",
       "    .dataframe tbody tr th:only-of-type {\n",
       "        vertical-align: middle;\n",
       "    }\n",
       "\n",
       "    .dataframe tbody tr th {\n",
       "        vertical-align: top;\n",
       "    }\n",
       "\n",
       "    .dataframe thead th {\n",
       "        text-align: right;\n",
       "    }\n",
       "</style>\n",
       "<table border=\"1\" class=\"dataframe\">\n",
       "  <thead>\n",
       "    <tr style=\"text-align: right;\">\n",
       "      <th></th>\n",
       "      <th>product_id</th>\n",
       "      <th>product_name</th>\n",
       "      <th>aisle_id</th>\n",
       "      <th>department_id</th>\n",
       "    </tr>\n",
       "  </thead>\n",
       "  <tbody>\n",
       "    <tr>\n",
       "      <th>0</th>\n",
       "      <td>1</td>\n",
       "      <td>Chocolate Sandwich Cookies</td>\n",
       "      <td>61</td>\n",
       "      <td>19</td>\n",
       "    </tr>\n",
       "    <tr>\n",
       "      <th>1</th>\n",
       "      <td>2</td>\n",
       "      <td>All-Seasons Salt</td>\n",
       "      <td>104</td>\n",
       "      <td>13</td>\n",
       "    </tr>\n",
       "    <tr>\n",
       "      <th>2</th>\n",
       "      <td>3</td>\n",
       "      <td>Robust Golden Unsweetened Oolong Tea</td>\n",
       "      <td>94</td>\n",
       "      <td>7</td>\n",
       "    </tr>\n",
       "    <tr>\n",
       "      <th>3</th>\n",
       "      <td>4</td>\n",
       "      <td>Smart Ones Classic Favorites Mini Rigatoni Wit...</td>\n",
       "      <td>38</td>\n",
       "      <td>1</td>\n",
       "    </tr>\n",
       "    <tr>\n",
       "      <th>4</th>\n",
       "      <td>5</td>\n",
       "      <td>Green Chile Anytime Sauce</td>\n",
       "      <td>5</td>\n",
       "      <td>13</td>\n",
       "    </tr>\n",
       "  </tbody>\n",
       "</table>\n",
       "</div>"
      ],
      "text/plain": [
       "   product_id                                       product_name  aisle_id  \\\n",
       "0           1                         Chocolate Sandwich Cookies        61   \n",
       "1           2                                   All-Seasons Salt       104   \n",
       "2           3               Robust Golden Unsweetened Oolong Tea        94   \n",
       "3           4  Smart Ones Classic Favorites Mini Rigatoni Wit...        38   \n",
       "4           5                          Green Chile Anytime Sauce         5   \n",
       "\n",
       "   department_id  \n",
       "0             19  \n",
       "1             13  \n",
       "2              7  \n",
       "3              1  \n",
       "4             13  "
      ]
     },
     "execution_count": 4,
     "metadata": {},
     "output_type": "execute_result"
    }
   ],
   "source": [
    "products.head()"
   ]
  },
  {
   "cell_type": "code",
   "execution_count": 8,
   "metadata": {},
   "outputs": [
    {
     "data": {
      "text/html": [
       "<div>\n",
       "<style scoped>\n",
       "    .dataframe tbody tr th:only-of-type {\n",
       "        vertical-align: middle;\n",
       "    }\n",
       "\n",
       "    .dataframe tbody tr th {\n",
       "        vertical-align: top;\n",
       "    }\n",
       "\n",
       "    .dataframe thead th {\n",
       "        text-align: right;\n",
       "    }\n",
       "</style>\n",
       "<table border=\"1\" class=\"dataframe\">\n",
       "  <thead>\n",
       "    <tr style=\"text-align: right;\">\n",
       "      <th></th>\n",
       "      <th>order_id</th>\n",
       "      <th>add_to_cart_order</th>\n",
       "      <th>product_id</th>\n",
       "      <th>product_name</th>\n",
       "      <th>aisle_id</th>\n",
       "      <th>aisle</th>\n",
       "      <th>department_id</th>\n",
       "      <th>department</th>\n",
       "      <th>user_id</th>\n",
       "    </tr>\n",
       "  </thead>\n",
       "  <tbody>\n",
       "    <tr>\n",
       "      <th>0</th>\n",
       "      <td>2</td>\n",
       "      <td>1</td>\n",
       "      <td>33120</td>\n",
       "      <td>Organic Egg Whites</td>\n",
       "      <td>86</td>\n",
       "      <td>eggs</td>\n",
       "      <td>16</td>\n",
       "      <td>dairy eggs</td>\n",
       "      <td>202279</td>\n",
       "    </tr>\n",
       "    <tr>\n",
       "      <th>1</th>\n",
       "      <td>26</td>\n",
       "      <td>5</td>\n",
       "      <td>33120</td>\n",
       "      <td>Organic Egg Whites</td>\n",
       "      <td>86</td>\n",
       "      <td>eggs</td>\n",
       "      <td>16</td>\n",
       "      <td>dairy eggs</td>\n",
       "      <td>153404</td>\n",
       "    </tr>\n",
       "    <tr>\n",
       "      <th>2</th>\n",
       "      <td>120</td>\n",
       "      <td>13</td>\n",
       "      <td>33120</td>\n",
       "      <td>Organic Egg Whites</td>\n",
       "      <td>86</td>\n",
       "      <td>eggs</td>\n",
       "      <td>16</td>\n",
       "      <td>dairy eggs</td>\n",
       "      <td>23750</td>\n",
       "    </tr>\n",
       "    <tr>\n",
       "      <th>3</th>\n",
       "      <td>327</td>\n",
       "      <td>5</td>\n",
       "      <td>33120</td>\n",
       "      <td>Organic Egg Whites</td>\n",
       "      <td>86</td>\n",
       "      <td>eggs</td>\n",
       "      <td>16</td>\n",
       "      <td>dairy eggs</td>\n",
       "      <td>58707</td>\n",
       "    </tr>\n",
       "    <tr>\n",
       "      <th>4</th>\n",
       "      <td>390</td>\n",
       "      <td>28</td>\n",
       "      <td>33120</td>\n",
       "      <td>Organic Egg Whites</td>\n",
       "      <td>86</td>\n",
       "      <td>eggs</td>\n",
       "      <td>16</td>\n",
       "      <td>dairy eggs</td>\n",
       "      <td>166654</td>\n",
       "    </tr>\n",
       "  </tbody>\n",
       "</table>\n",
       "</div>"
      ],
      "text/plain": [
       "   order_id  add_to_cart_order  product_id        product_name  aisle_id  \\\n",
       "0         2                  1       33120  Organic Egg Whites        86   \n",
       "1        26                  5       33120  Organic Egg Whites        86   \n",
       "2       120                 13       33120  Organic Egg Whites        86   \n",
       "3       327                  5       33120  Organic Egg Whites        86   \n",
       "4       390                 28       33120  Organic Egg Whites        86   \n",
       "\n",
       "  aisle  department_id  department  user_id  \n",
       "0  eggs             16  dairy eggs   202279  \n",
       "1  eggs             16  dairy eggs   153404  \n",
       "2  eggs             16  dairy eggs    23750  \n",
       "3  eggs             16  dairy eggs    58707  \n",
       "4  eggs             16  dairy eggs   166654  "
      ]
     },
     "execution_count": 8,
     "metadata": {},
     "output_type": "execute_result"
    }
   ],
   "source": [
    "all_orders = all_orders[['order_id','add_to_cart_order','product_id','product_name','aisle_id','aisle','department_id','department','user_id']]\n",
    "all_orders.head()"
   ]
  },
  {
   "cell_type": "code",
   "execution_count": null,
   "metadata": {},
   "outputs": [],
   "source": [
    "# distribution of orders/custer\n",
    "# distribution of items ordered/custer\n",
    "# most popular aisles\n",
    "# most popular items\n",
    "# how many customers, how many orders, how many items, how many aisles\n",
    "# number of items/order\n",
    "# when do people order"
   ]
  },
  {
   "cell_type": "markdown",
   "metadata": {},
   "source": [
    "Get handle on size of data- how many customers, products, aisles and orders are we dealing with?"
   ]
  },
  {
   "cell_type": "code",
   "execution_count": 9,
   "metadata": {},
   "outputs": [
    {
     "name": "stdout",
     "output_type": "stream",
     "text": [
      "206209 customers\n",
      "3346083 order\n",
      "134 aisles\n",
      "49685 products\n"
     ]
    }
   ],
   "source": [
    "# size of data stats\n",
    "\n",
    "print(str(len(all_orders.user_id.unique())) +' customers')\n",
    "print(str(len(all_orders.order_id.unique())) +' order')\n",
    "print(str(len(all_orders.aisle_id.unique())) +' aisles')\n",
    "print(str(len(all_orders.product_id.unique())) +' products')"
   ]
  },
  {
   "cell_type": "markdown",
   "metadata": {},
   "source": [
    "Which aisles and products are popular?"
   ]
  },
  {
   "cell_type": "code",
   "execution_count": 25,
   "metadata": {},
   "outputs": [
    {
     "data": {
      "text/plain": [
       "[Text(0, 0.5, 'Units Ordered'), Text(0.5, 0, 'Department')]"
      ]
     },
     "execution_count": 25,
     "metadata": {},
     "output_type": "execute_result"
    },
    {
     "data": {
      "image/png": "[encoded data removed]",
      "text/plain": [
       "<Figure size 432x288 with 1 Axes>"
      ]
     },
     "metadata": {
      "needs_background": "light"
     },
     "output_type": "display_data"
    }
   ],
   "source": [
    "# most popular departments in terms of units ordered\n",
    "\n",
    "x = sns.barplot(data = all_orders.groupby('department')['add_to_cart_order'].sum().sort_values(ascending = False).reset_index()[0:10], x = 'department', y = 'add_to_cart_order')\n",
    "x.set_xticklabels(x.get_xticklabels(), rotation = 90)\n",
    "x.set(xlabel = 'Department', ylabel = 'Units Ordered')"
   ]
  },
  {
   "cell_type": "code",
   "execution_count": 34,
   "metadata": {},
   "outputs": [
    {
     "data": {
      "text/plain": [
       "[Text(0, 0.5, 'Department Share'), Text(0.5, 0, 'Department')]"
      ]
     },
     "execution_count": 34,
     "metadata": {},
     "output_type": "execute_result"
    },
    {
     "data": {
      "image/png": "[encoded data removed]",
      "text/plain": [
       "<Figure size 432x288 with 1 Axes>"
      ]
     },
     "metadata": {
      "needs_background": "light"
     },
     "output_type": "display_data"
    }
   ],
   "source": [
    "department_share = all_orders.groupby('department')['add_to_cart_order'].sum().reset_index()\n",
    "department_share['department_share'] = department_share['add_to_cart_order']\n",
    "department_share['department_share'] = department_share['department_share'].apply(lambda x: x / department_share['add_to_cart_order'].sum())\n",
    "\n",
    "x = sns.barplot(data = department_share.sort_values(by = 'department_share',ascending = False), x = 'department', y = 'department_share')\n",
    "x.set_xticklabels(x.get_xticklabels(), rotation = 90)\n",
    "x.set(xlabel = 'Department', ylabel = 'Department Share')"
   ]
  },
  {
   "cell_type": "code",
   "execution_count": 35,
   "metadata": {},
   "outputs": [
    {
     "data": {
      "text/plain": [
       "21"
      ]
     },
     "execution_count": 35,
     "metadata": {},
     "output_type": "execute_result"
    }
   ],
   "source": [
    "all_orders.department.nunique()"
   ]
  },
  {
   "cell_type": "code",
   "execution_count": 10,
   "metadata": {},
   "outputs": [
    {
     "data": {
      "text/plain": [
       "[Text(0, 0.5, 'Units Ordered'), Text(0.5, 0, 'Aisle')]"
      ]
     },
     "execution_count": 10,
     "metadata": {},
     "output_type": "execute_result"
    },
    {
     "data": {
      "image/png": "[encoded data removed]",
      "text/plain": [
       "<Figure size 432x288 with 1 Axes>"
      ]
     },
     "metadata": {
      "needs_background": "light"
     },
     "output_type": "display_data"
    }
   ],
   "source": [
    "# most popular aisles in terms of units ordered\n",
    "\n",
    "x = sns.barplot(data = all_orders.groupby('aisle')['add_to_cart_order'].sum().sort_values(ascending = False).reset_index()[0:10], x = 'aisle', y = 'add_to_cart_order')\n",
    "x.set_xticklabels(x.get_xticklabels(), rotation = 90)\n",
    "x.set(xlabel = 'Aisle', ylabel = 'Units Ordered')"
   ]
  },
  {
   "cell_type": "code",
   "execution_count": 11,
   "metadata": {},
   "outputs": [
    {
     "data": {
      "text/plain": [
       "[Text(0, 0.5, 'Aisle Share'), Text(0.5, 0, 'Aisle')]"
      ]
     },
     "execution_count": 11,
     "metadata": {},
     "output_type": "execute_result"
    },
    {
     "data": {
      "image/png": "[encoded data removed]",
      "text/plain": [
       "<Figure size 432x288 with 1 Axes>"
      ]
     },
     "metadata": {
      "needs_background": "light"
     },
     "output_type": "display_data"
    }
   ],
   "source": [
    "# create barchart showing share instead of units for top aisles\n",
    "\n",
    "aisle_share = all_orders.groupby('aisle')['add_to_cart_order'].sum().reset_index()\n",
    "aisle_share['aisle_share'] = aisle_share['add_to_cart_order']\n",
    "aisle_share['aisle_share'] = aisle_share['aisle_share'].apply(lambda x: x / aisle_share['add_to_cart_order'].sum())\n",
    "\n",
    "x = sns.barplot(data = aisle_share.sort_values(by = 'aisle_share',ascending = False)[0:10], x = 'aisle', y = 'aisle_share')\n",
    "x.set_xticklabels(x.get_xticklabels(), rotation = 90)\n",
    "x.set(xlabel = 'Aisle', ylabel = 'Aisle Share')"
   ]
  },
  {
   "cell_type": "code",
   "execution_count": 12,
   "metadata": {},
   "outputs": [
    {
     "data": {
      "text/plain": [
       "[Text(0, 0.5, 'Units Ordered'), Text(0.5, 0, 'Product Name')]"
      ]
     },
     "execution_count": 12,
     "metadata": {},
     "output_type": "execute_result"
    },
    {
     "data": {
      "image/png": "[encoded data removed]",
      "text/plain": [
       "<Figure size 432x288 with 1 Axes>"
      ]
     },
     "metadata": {
      "needs_background": "light"
     },
     "output_type": "display_data"
    }
   ],
   "source": [
    "# most popular items in terms of units ordered\n",
    "\n",
    "x = sns.barplot(data = all_orders.groupby('product_name')['add_to_cart_order'].sum().sort_values(ascending = False).reset_index()[0:10], x = 'product_name', y = 'add_to_cart_order')\n",
    "x.set_xticklabels(x.get_xticklabels(), rotation = 90)\n",
    "x.set(xlabel = 'Product Name', ylabel = 'Units Ordered')"
   ]
  },
  {
   "cell_type": "code",
   "execution_count": 13,
   "metadata": {},
   "outputs": [
    {
     "data": {
      "text/plain": [
       "[Text(0, 0.5, 'Unit Share'), Text(0.5, 0, 'Product Name')]"
      ]
     },
     "execution_count": 13,
     "metadata": {},
     "output_type": "execute_result"
    },
    {
     "data": {
      "image/png": "[encoded data removed]",
      "text/plain": [
       "<Figure size 432x288 with 1 Axes>"
      ]
     },
     "metadata": {
      "needs_background": "light"
     },
     "output_type": "display_data"
    }
   ],
   "source": [
    "# create barchart showing share instead of units for top products\n",
    "\n",
    "product_share = all_orders.groupby('product_name')['add_to_cart_order'].sum().reset_index()\n",
    "product_share['product_share'] = product_share['add_to_cart_order']\n",
    "product_share['product_share'] = product_share['product_share'].apply(lambda x: x / product_share['add_to_cart_order'].sum())\n",
    "\n",
    "x = sns.barplot(data = product_share.sort_values(by = 'product_share',ascending = False)[0:30], x = 'product_name', y = 'product_share')\n",
    "x.set_xticklabels(x.get_xticklabels(), rotation = 90)\n",
    "x.set(xlabel = 'Product Name', ylabel = 'Unit Share')"
   ]
  },
  {
   "cell_type": "code",
   "execution_count": 48,
   "metadata": {},
   "outputs": [
    {
     "data": {
      "text/plain": [
       "product_name\n",
       "Banana                                                       2405664\n",
       "Bag of Organic Bananas                                       2007396\n",
       "Organic Strawberries                                         2005999\n",
       "Organic Baby Spinach                                         1870623\n",
       "Organic Hass Avocado                                         1497887\n",
       "Large Lemon                                                  1279007\n",
       "Limes                                                        1261016\n",
       "Organic Avocado                                              1187054\n",
       "Strawberries                                                 1065577\n",
       "Organic Raspberries                                          1031044\n",
       "Organic Yellow Onion                                         1004141\n",
       "Organic Garlic                                               1001654\n",
       "Organic Zucchini                                              986367\n",
       "Organic Blueberries                                           862073\n",
       "Organic Grape Tomatoes                                        834206\n",
       "Organic Whole Milk                                            777566\n",
       "Cucumber Kirby                                                763565\n",
       "Organic Lemon                                                 736962\n",
       "Organic Cucumber                                              733572\n",
       "Seedless Red Grapes                                           712691\n",
       "Organic Baby Carrots                                          699817\n",
       "Fresh Cauliflower                                             678967\n",
       "Apple Honeycrisp Organic                                      669898\n",
       "Organic Cilantro                                              669856\n",
       "Organic Red Onion                                             665058\n",
       "Organic Fuji Apple                                            652080\n",
       "Carrots                                                       650092\n",
       "Organic Small Bunch Celery                                    649671\n",
       "Organic Baby Arugula                                          643474\n",
       "Yellow Onions                                                 633608\n",
       "                                                              ...   \n",
       "Sweet Baguette                                                 49715\n",
       "Free & Clear Natural Laundry Detergent For Sensitive Skin      49653\n",
       "Organic Raw Multigreen Kobmbucha                               49646\n",
       "Crunchy Peanut Butter                                          49594\n",
       "Spinach Pizza                                                  49542\n",
       "Whole Organic Omega 3 Milk                                     49482\n",
       "Sweet Cream Salted Butter                                      49471\n",
       "Enlightened Organic Raw Kombucha                               49431\n",
       "Nectarines                                                     49322\n",
       "Sliced Baby Bella Mushrooms                                    49300\n",
       "Organic Red Bartlett Pear                                      49145\n",
       "Mild Salsa Roja                                                49061\n",
       "Peanut Butter Cookie                                           49021\n",
       "GOLEAN Crunch! Cereal                                          48978\n",
       "Baked Beans                                                    48846\n",
       "Organic Greek Plain Nonfat Yogurt                              48820\n",
       "1% Low Fat Milk                                                48810\n",
       "Organic Whole Milk Strawberry Beet Berry Yogurt Pouch          48779\n",
       "Smartwater                                                     48760\n",
       "Original Cereal                                                48758\n",
       "Organic Raspberry Lowfat Yogurt                                48651\n",
       "Cream Top Smooth & Creamy Vanilla Yogurt                       48619\n",
       "Mandarins Bag                                                  48591\n",
       "Apples                                                         48541\n",
       "Organic Bunny Fruit Tropical Treat Fruit Snacks                48453\n",
       "Heirloom Tomato                                                48438\n",
       "Minced Garlic                                                  48196\n",
       "Steel Cut Oats                                                 48036\n",
       "Original Wheat Thins                                           48030\n",
       "Dairy Free Mozarella Style Shreds                              48001\n",
       "Name: add_to_cart_order, Length: 1000, dtype: int64"
      ]
     },
     "execution_count": 48,
     "metadata": {},
     "output_type": "execute_result"
    }
   ],
   "source": [
    "pd.set_option('display.min_rows',10000)\n",
    "all_orders.groupby('product_name')['add_to_cart_order'].sum().sort_values(ascending = False)[0:1000]"
   ]
  },
  {
   "cell_type": "markdown",
   "metadata": {},
   "source": [
    "User summary statistics- how much, how often, when do people order?"
   ]
  },
  {
   "cell_type": "code",
   "execution_count": 46,
   "metadata": {},
   "outputs": [
    {
     "data": {
      "text/plain": [
       "count    206209.000000\n",
       "mean         16.226658\n",
       "std          16.662238\n",
       "min           3.000000\n",
       "25%           6.000000\n",
       "50%          10.000000\n",
       "75%          20.000000\n",
       "max         100.000000\n",
       "Name: order_id, dtype: float64"
      ]
     },
     "execution_count": 46,
     "metadata": {},
     "output_type": "execute_result"
    }
   ],
   "source": [
    "# summary of number of orders by user\n",
    "\n",
    "all_orders.groupby('user_id')['order_id'].nunique().describe()"
   ]
  },
  {
   "cell_type": "code",
   "execution_count": 19,
   "metadata": {},
   "outputs": [
    {
     "data": {
      "text/plain": [
       "[Text(0.5, 0, 'Orders/User')]"
      ]
     },
     "execution_count": 19,
     "metadata": {},
     "output_type": "execute_result"
    },
    {
     "data": {
      "image/png": "[encoded data removed]",
      "text/plain": [
       "<Figure size 432x288 with 1 Axes>"
      ]
     },
     "metadata": {
      "needs_background": "light"
     },
     "output_type": "display_data"
    }
   ],
   "source": [
    "# distribution plot of orders/user\n",
    "\n",
    "x = sns.distplot(all_orders.groupby('user_id')['order_id'].nunique())\n",
    "x.set(xlabel = 'Orders/User')"
   ]
  },
  {
   "cell_type": "code",
   "execution_count": 47,
   "metadata": {},
   "outputs": [
    {
     "data": {
      "text/plain": [
       "count    206209.000000\n",
       "mean       1372.342643\n",
       "std        2489.390476\n",
       "min           3.000000\n",
       "25%         203.000000\n",
       "50%         568.000000\n",
       "75%        1483.000000\n",
       "max      138990.000000\n",
       "Name: add_to_cart_order, dtype: float64"
      ]
     },
     "execution_count": 47,
     "metadata": {},
     "output_type": "execute_result"
    }
   ],
   "source": [
    "# summary of units ordered/customer over the year\n",
    "\n",
    "all_orders.groupby('user_id')['add_to_cart_order'].sum().describe()"
   ]
  },
  {
   "cell_type": "code",
   "execution_count": 15,
   "metadata": {},
   "outputs": [
    {
     "data": {
      "text/plain": [
       "[Text(0.5, 0, 'Units Ordered/User')]"
      ]
     },
     "execution_count": 15,
     "metadata": {},
     "output_type": "execute_result"
    },
    {
     "data": {
      "image/png": "[encoded data removed]",
      "text/plain": [
       "<Figure size 432x288 with 1 Axes>"
      ]
     },
     "metadata": {
      "needs_background": "light"
     },
     "output_type": "display_data"
    }
   ],
   "source": [
    "# distplot of number of units ordered/customer ordered over the year\n",
    "\n",
    "x = sns.distplot(all_orders.groupby('user_id')['add_to_cart_order'].sum())\n",
    "x.set(xlabel = 'Units Ordered/User')"
   ]
  },
  {
   "cell_type": "code",
   "execution_count": 36,
   "metadata": {},
   "outputs": [
    {
     "data": {
      "text/plain": [
       "count    3.346083e+06\n",
       "mean     8.457334e+01\n",
       "std      1.355298e+02\n",
       "min      1.000000e+00\n",
       "25%      1.500000e+01\n",
       "50%      3.600000e+01\n",
       "75%      1.050000e+02\n",
       "max      1.058500e+04\n",
       "Name: add_to_cart_order, dtype: float64"
      ]
     },
     "execution_count": 36,
     "metadata": {},
     "output_type": "execute_result"
    }
   ],
   "source": [
    "# summary of order size\n",
    "\n",
    "all_orders.groupby('order_id')['add_to_cart_order'].sum().describe()"
   ]
  },
  {
   "cell_type": "code",
   "execution_count": 16,
   "metadata": {},
   "outputs": [
    {
     "data": {
      "text/plain": [
       "[Text(0.5, 0, 'Units/Order')]"
      ]
     },
     "execution_count": 16,
     "metadata": {},
     "output_type": "execute_result"
    },
    {
     "data": {
      "image/png": "[encoded data removed]",
      "text/plain": [
       "<Figure size 432x288 with 1 Axes>"
      ]
     },
     "metadata": {
      "needs_background": "light"
     },
     "output_type": "display_data"
    }
   ],
   "source": [
    "# distplot of number of units/order\n",
    "\n",
    "x = sns.distplot(all_orders.groupby('order_id')['add_to_cart_order'].sum())\n",
    "x.set(xlabel = 'Units/Order')"
   ]
  },
  {
   "cell_type": "code",
   "execution_count": 23,
   "metadata": {},
   "outputs": [
    {
     "data": {
      "text/plain": [
       "[Text(0.5, 0, 'Units/Order')]"
      ]
     },
     "execution_count": 23,
     "metadata": {},
     "output_type": "execute_result"
    },
    {
     "data": {
      "image/png": "[encoded data removed]",
      "text/plain": [
       "<Figure size 432x288 with 1 Axes>"
      ]
     },
     "metadata": {
      "needs_background": "light"
     },
     "output_type": "display_data"
    }
   ],
   "source": [
    "# cutoff previous distplot 500 units\n",
    "\n",
    "order_size = all_orders.groupby('order_id')['add_to_cart_order'].sum().reset_index()\n",
    "\n",
    "x = sns.distplot(order_size[order_size['add_to_cart_order'] < 500]['add_to_cart_order'], kde = False)\n",
    "x.set(xlabel = 'Units/Order')"
   ]
  },
  {
   "cell_type": "code",
   "execution_count": 65,
   "metadata": {},
   "outputs": [
    {
     "data": {
      "text/plain": [
       "count    206209.000000\n",
       "mean         15.448686\n",
       "std           6.915575\n",
       "min           0.000000\n",
       "25%           9.814815\n",
       "50%          15.000000\n",
       "75%          20.625000\n",
       "max          30.000000\n",
       "Name: days_since_prior_order, dtype: float64"
      ]
     },
     "execution_count": 65,
     "metadata": {},
     "output_type": "execute_result"
    }
   ],
   "source": [
    "# summary statistics for average time between orders by user\n",
    "\n",
    "orders.groupby('user_id')['days_since_prior_order'].mean().describe()"
   ]
  },
  {
   "cell_type": "code",
   "execution_count": 22,
   "metadata": {},
   "outputs": [
    {
     "data": {
      "text/plain": [
       "[Text(0.5, 0, 'Average Days Between Orders By User')]"
      ]
     },
     "execution_count": 22,
     "metadata": {},
     "output_type": "execute_result"
    },
    {
     "data": {
      "image/png": "[encoded data removed]",
      "text/plain": [
       "<Figure size 432x288 with 1 Axes>"
      ]
     },
     "metadata": {
      "needs_background": "light"
     },
     "output_type": "display_data"
    }
   ],
   "source": [
    "# distplot for time between orders\n",
    "\n",
    "x = sns.distplot(orders.groupby('user_id')['days_since_prior_order'].mean())\n",
    "x.set(xlabel = 'Average Days Between Orders By User')"
   ]
  },
  {
   "cell_type": "code",
   "execution_count": null,
   "metadata": {},
   "outputs": [],
   "source": []
  }
 ],
 "metadata": {
  "kernelspec": {
   "display_name": "Python 3",
   "language": "python",
   "name": "python3"
  },
  "language_info": {
   "codemirror_mode": {
    "name": "ipython",
    "version": 3
   },
   "file_extension": ".py",
   "mimetype": "text/x-python",
   "name": "python",
   "nbconvert_exporter": "python",
   "pygments_lexer": "ipython3",
   "version": "3.7.3"
  }
 },
 "nbformat": 4,
 "nbformat_minor": 4
}
